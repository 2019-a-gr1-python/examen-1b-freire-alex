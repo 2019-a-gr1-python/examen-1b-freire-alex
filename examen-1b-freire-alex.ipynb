{
 "cells": [
  {
   "cell_type": "markdown",
   "metadata": {},
   "source": [
    "# examen-1b-freire-alex"
   ]
  },
  {
   "cell_type": "markdown",
   "metadata": {},
   "source": [
    "# 2"
   ]
  },
  {
   "cell_type": "code",
   "execution_count": 4,
   "metadata": {},
   "outputs": [],
   "source": [
    "import numpy as np"
   ]
  },
  {
   "cell_type": "code",
   "execution_count": 6,
   "metadata": {},
   "outputs": [
    {
     "data": {
      "text/plain": [
       "array([0., 0., 0., 0., 0., 0., 0., 0., 0., 0.])"
      ]
     },
     "execution_count": 6,
     "metadata": {},
     "output_type": "execute_result"
    }
   ],
   "source": [
    "np.zeros((10))"
   ]
  },
  {
   "cell_type": "markdown",
   "metadata": {},
   "source": [
    "# 3"
   ]
  },
  {
   "cell_type": "code",
   "execution_count": 11,
   "metadata": {},
   "outputs": [],
   "source": [
    "b=np.zeros((10))"
   ]
  },
  {
   "cell_type": "code",
   "execution_count": 12,
   "metadata": {},
   "outputs": [],
   "source": [
    "b[5]=1"
   ]
  },
  {
   "cell_type": "code",
   "execution_count": 13,
   "metadata": {},
   "outputs": [
    {
     "data": {
      "text/plain": [
       "array([0., 0., 0., 0., 0., 1., 0., 0., 0., 0.])"
      ]
     },
     "execution_count": 13,
     "metadata": {},
     "output_type": "execute_result"
    }
   ],
   "source": [
    "b"
   ]
  },
  {
   "cell_type": "markdown",
   "metadata": {},
   "source": [
    "# 4"
   ]
  },
  {
   "cell_type": "code",
   "execution_count": 9,
   "metadata": {},
   "outputs": [],
   "source": [
    "a=np.arange((50))"
   ]
  },
  {
   "cell_type": "code",
   "execution_count": 10,
   "metadata": {},
   "outputs": [
    {
     "data": {
      "text/plain": [
       "array([ 0,  1,  2,  3,  4,  5,  6,  7,  8,  9, 10, 11, 12, 13, 14, 15, 16,\n",
       "       17, 18, 19, 20, 21, 22, 23, 24, 25, 26, 27, 28, 29, 30, 31, 32, 33,\n",
       "       34, 35, 36, 37, 38, 39, 40, 41, 42, 43, 44, 45, 46, 47, 48, 49])"
      ]
     },
     "execution_count": 10,
     "metadata": {},
     "output_type": "execute_result"
    }
   ],
   "source": [
    "a"
   ]
  },
  {
   "cell_type": "code",
   "execution_count": 12,
   "metadata": {},
   "outputs": [
    {
     "data": {
      "text/plain": [
       "array([49, 48, 47, 46, 45, 44, 43, 42, 41, 40, 39, 38, 37, 36, 35, 34, 33,\n",
       "       32, 31, 30, 29, 28, 27, 26, 25, 24, 23, 22, 21, 20, 19, 18, 17, 16,\n",
       "       15, 14, 13, 12, 11, 10,  9,  8,  7,  6,  5,  4,  3,  2,  1,  0])"
      ]
     },
     "execution_count": 12,
     "metadata": {},
     "output_type": "execute_result"
    }
   ],
   "source": [
    "a[::-1]"
   ]
  },
  {
   "cell_type": "markdown",
   "metadata": {},
   "source": [
    "# 5"
   ]
  },
  {
   "cell_type": "code",
   "execution_count": 9,
   "metadata": {},
   "outputs": [
    {
     "data": {
      "text/plain": [
       "array([[[0, 1, 2],\n",
       "        [3, 4, 5],\n",
       "        [6, 7, 8]]])"
      ]
     },
     "execution_count": 9,
     "metadata": {},
     "output_type": "execute_result"
    }
   ],
   "source": [
    "np.arange((9)).reshape(1,3,3)"
   ]
  },
  {
   "cell_type": "markdown",
   "metadata": {},
   "source": [
    "# 6"
   ]
  },
  {
   "cell_type": "code",
   "execution_count": 14,
   "metadata": {},
   "outputs": [],
   "source": [
    "arreglo=[1,2,0,0,4,0]"
   ]
  },
  {
   "cell_type": "code",
   "execution_count": 16,
   "metadata": {},
   "outputs": [
    {
     "name": "stdout",
     "output_type": "stream",
     "text": [
      "indice: 0\n",
      "indice: 1\n",
      "indice: 4\n"
     ]
    }
   ],
   "source": [
    "for elemento in arreglo:\n",
    "    if elemento != 0:\n",
    "        print(f\"indice: {arreglo.index(elemento)}\")"
   ]
  },
  {
   "cell_type": "markdown",
   "metadata": {},
   "source": [
    "# 7"
   ]
  },
  {
   "cell_type": "code",
   "execution_count": 18,
   "metadata": {},
   "outputs": [
    {
     "data": {
      "text/plain": [
       "array([[1., 0., 0.],\n",
       "       [0., 1., 0.],\n",
       "       [0., 0., 1.]])"
      ]
     },
     "execution_count": 18,
     "metadata": {},
     "output_type": "execute_result"
    }
   ],
   "source": [
    "np.eye((3))"
   ]
  },
  {
   "cell_type": "markdown",
   "metadata": {},
   "source": [
    "# 8"
   ]
  },
  {
   "cell_type": "code",
   "execution_count": 22,
   "metadata": {},
   "outputs": [
    {
     "data": {
      "text/plain": [
       "array([[[0.07275231, 0.69967573, 0.79175486],\n",
       "        [0.56398613, 0.73304044, 0.3287647 ],\n",
       "        [0.35525285, 0.61876937, 0.77954519]],\n",
       "\n",
       "       [[0.06926685, 0.85092223, 0.6077218 ],\n",
       "        [0.41597545, 0.59137683, 0.58533853],\n",
       "        [0.26490519, 0.56320206, 0.45204265]],\n",
       "\n",
       "       [[0.7385294 , 0.16354243, 0.11881454],\n",
       "        [0.91996774, 0.18771322, 0.99131203],\n",
       "        [0.32502391, 0.0673809 , 0.85140765]]])"
      ]
     },
     "execution_count": 22,
     "metadata": {},
     "output_type": "execute_result"
    }
   ],
   "source": [
    "np.random.random((3,3,3))"
   ]
  },
  {
   "cell_type": "markdown",
   "metadata": {},
   "source": [
    "# 9"
   ]
  },
  {
   "cell_type": "code",
   "execution_count": 27,
   "metadata": {},
   "outputs": [],
   "source": [
    "d=np.random.random((10,10))"
   ]
  },
  {
   "cell_type": "code",
   "execution_count": 28,
   "metadata": {},
   "outputs": [
    {
     "data": {
      "text/plain": [
       "array([[0.10393491, 0.04708212, 0.42384448, 0.15918893, 0.25052629,\n",
       "        0.03807538, 0.65896047, 0.52593366, 0.64827076, 0.70173537],\n",
       "       [0.44299659, 0.08391342, 0.09930273, 0.76005049, 0.94588895,\n",
       "        0.94334996, 0.78684544, 0.28019393, 0.91421445, 0.0472033 ],\n",
       "       [0.67487221, 0.62076284, 0.54681724, 0.23764571, 0.41003359,\n",
       "        0.82884474, 0.55417204, 0.81974044, 0.27568835, 0.57401394],\n",
       "       [0.61297817, 0.51409916, 0.53933847, 0.0584554 , 0.6814824 ,\n",
       "        0.93635242, 0.248627  , 0.81202034, 0.49472827, 0.51007667],\n",
       "       [0.98684927, 0.20707789, 0.0322784 , 0.416914  , 0.87606682,\n",
       "        0.18799983, 0.65526746, 0.27984958, 0.76610325, 0.95374494],\n",
       "       [0.11047362, 0.94805409, 0.77071455, 0.8865555 , 0.98431524,\n",
       "        0.30153726, 0.57535698, 0.47379028, 0.20958835, 0.28463085],\n",
       "       [0.40140993, 0.14786222, 0.54601433, 0.78714649, 0.16810464,\n",
       "        0.77472418, 0.94460252, 0.34866921, 0.89523914, 0.73848493],\n",
       "       [0.89849567, 0.78612555, 0.16739271, 0.62279555, 0.80783799,\n",
       "        0.288572  , 0.05151149, 0.42123842, 0.4912058 , 0.96010809],\n",
       "       [0.79040325, 0.93643356, 0.98667646, 0.62634618, 0.39922837,\n",
       "        0.70138863, 0.5856281 , 0.8851708 , 0.99570675, 0.38295459],\n",
       "       [0.594448  , 0.39365687, 0.44100489, 0.3443296 , 0.73040617,\n",
       "        0.23143788, 0.28611195, 0.05415396, 0.09398706, 0.24495728]])"
      ]
     },
     "execution_count": 28,
     "metadata": {},
     "output_type": "execute_result"
    }
   ],
   "source": [
    "d"
   ]
  },
  {
   "cell_type": "code",
   "execution_count": null,
   "metadata": {},
   "outputs": [],
   "source": []
  }
 ],
 "metadata": {
  "kernelspec": {
   "display_name": "Python 3",
   "language": "python",
   "name": "python3"
  },
  "language_info": {
   "codemirror_mode": {
    "name": "ipython",
    "version": 3
   },
   "file_extension": ".py",
   "mimetype": "text/x-python",
   "name": "python",
   "nbconvert_exporter": "python",
   "pygments_lexer": "ipython3",
   "version": "3.7.3"
  }
 },
 "nbformat": 4,
 "nbformat_minor": 2
}
